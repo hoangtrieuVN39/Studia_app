{
 "cells": [
  {
   "cell_type": "code",
   "execution_count": 48,
   "metadata": {},
   "outputs": [
    {
     "name": "stdout",
     "output_type": "stream",
     "text": [
      "40\n",
      "120\n",
      "200\n",
      "280\n",
      "360\n",
      "440\n",
      "520\n",
      "600\n",
      "680\n",
      "760\n",
      "840\n",
      "920\n",
      "1000\n",
      "1080\n",
      "1160\n",
      "1240\n",
      "1320\n",
      "1400\n",
      "1480\n",
      "1560\n"
     ]
    }
   ],
   "source": [
    "num = 3\n",
    "width = 80\n",
    "width_stack = 379.4\n",
    "\n",
    "for index in range(20):\n",
    "    # if (index // num) % 2 == 0:\n",
    "    #     print(index % num / num * (width_stack - width))\n",
    "    #     # x = width - (index % num /3 * (width_stack - width) )\n",
    "    # else:\n",
    "    #     # x = (index % num /3 * (width_stack - width) )\n",
    "    #     print((num - index % num) / num * (width_stack - width))\n",
    "    # print(x)\n",
    "    y = index * 80 + 40\n",
    "    print(y)\n"
   ]
  }
 ],
 "metadata": {
  "kernelspec": {
   "display_name": "Python 3",
   "language": "python",
   "name": "python3"
  },
  "language_info": {
   "codemirror_mode": {
    "name": "ipython",
    "version": 3
   },
   "file_extension": ".py",
   "mimetype": "text/x-python",
   "name": "python",
   "nbconvert_exporter": "python",
   "pygments_lexer": "ipython3",
   "version": "3.11.6"
  }
 },
 "nbformat": 4,
 "nbformat_minor": 2
}
